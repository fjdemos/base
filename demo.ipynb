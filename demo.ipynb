# Import necessary libraries
import matplotlib.pyplot as plt

# Sample data
labels = ['Apples', 'Bananas', 'Cherries', 'Dates']
sizes = [25, 30, 20, 25]  # Percentages

# Optional: explode one slice for emphasis
explode = (0, 0.1, 0, 0)  # "explode" Bananas

# Create pie chart
plt.figure(figsize=(6,6))
plt.pie(sizes, labels=labels, explode=explode, autopct='%1.1f%%',
        shadow=True, startangle=140)

plt.title('Fruit Distribution')
plt.axis('equal')  # Equal aspect ratio ensures the pie is circular
plt.show()
