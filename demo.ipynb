{
  "cells": [
    {
      "cell_type": "code",
      "execution_count": null,
      "metadata": {},
      "outputs": [],
      "source": [
        "# Import necessary libraries\n",
        "import matplotlib.pyplot as plt\n",
        "\n",
        "# Sample data\n",
        "labels = ['Apples', 'Bananas', 'Cherries', 'Dates']\n",
        "sizes = [25, 30, 20, 25]  # Percentages\n",
        "\n",
        "# Optional: explode one slice for emphasis\n",
        "explode = (0, 0.1, 0, 0)  # \"explode\" Bananas\n",
        "\n",
        "# Create pie chart\n",
        "plt.figure(figsize=(6,6))\n",
        "plt.pie(sizes, labels=labels, explode=explode, autopct='%1.1f%%',\n",
        "        shadow=True, startangle=140)\n",
        "\n",
        "plt.title('Fruit Distribution')\n",
        "plt.axis('equal')  # Equal aspect ratio ensures the pie is circular\n",
        "plt.show()"
      ]
    }
  ],
  "metadata": {
    "kernelspec": {
      "display_name": "Python 3",
      "language": "python",
      "name": "python3"
    },
    "language_info": {
      "name": "python",
      "version": "3.8"
    }
  },
  "nbformat": 4,
  "nbformat_minor": 5
}
